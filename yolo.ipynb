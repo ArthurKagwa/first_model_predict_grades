{
 "cells": [
  {
   "metadata": {
    "ExecuteTime": {
     "end_time": "2025-02-20T16:10:05.459213Z",
     "start_time": "2025-02-20T16:09:57.946361Z"
    }
   },
   "cell_type": "code",
   "source": [
    "from inference import get_model\n",
    "import supervision as sv\n",
    "from inference.core.utils.image_utils import load_image_bgr\n",
    " \n",
    "image = load_image_bgr(\"https://media.roboflow.com/inference/vehicles.png\")\n",
    "model = get_model(model_id=\"yolov8n-640\")\n",
    "results = model.infer(image)[0]\n",
    "print(results)\n"
   ],
   "id": "78c8625d6410ac27",
   "outputs": [
    {
     "name": "stdout",
     "output_type": "stream",
     "text": [
      "visualization=None inference_id=None frame_id=None time=None image=InferenceResponseImage(width=2108, height=1308) predictions=[ObjectDetectionPrediction(x=722.5, y=1018.0, width=193.0, height=170.0, confidence=0.8271484375, class_name='car', class_confidence=None, class_id=2, tracker_id=None, detection_id='d61acf6d-bd94-4bde-9876-cd540f0aa21e', parent_id=None), ObjectDetectionPrediction(x=1499.5, y=709.0, width=123.0, height=100.0, confidence=0.75390625, class_name='car', class_confidence=None, class_id=2, tracker_id=None, detection_id='ac7477e1-a2a2-42c1-9261-0a518d0e2302', parent_id=None), ObjectDetectionPrediction(x=350.0, y=858.0, width=280.0, height=392.0, confidence=0.7373046875, class_name='truck', class_confidence=None, class_id=7, tracker_id=None, detection_id='b71ae5a3-95e7-4146-9d74-8be4d5dd66fe', parent_id=None), ObjectDetectionPrediction(x=758.5, y=904.5, width=157.0, height=153.0, confidence=0.626953125, class_name='car', class_confidence=None, class_id=2, tracker_id=None, detection_id='c0a1791e-a8cf-4fbf-8bd5-6fbda1562577', parent_id=None)]\n"
     ]
    }
   ],
   "execution_count": 4
  },
  {
   "metadata": {},
   "cell_type": "code",
   "outputs": [],
   "execution_count": null,
   "source": [
    "results = sv.Detections.from_inference(results)\n",
    "annotator = sv.BoxAnnotator(thickness=4)\n",
    "annotated_image = annotator.annotate(image, results)\n",
    "annotator = sv.LabelAnnotator(text_scale=2, text_thickness=2)\n",
    "annotated_image = annotator.annotate(annotated_image, results)\n",
    "sv.plot_image(annotated_image)"
   ],
   "id": "d771a089b547d9e8"
  }
 ],
 "metadata": {
  "kernelspec": {
   "display_name": "Python 3",
   "language": "python",
   "name": "python3"
  },
  "language_info": {
   "codemirror_mode": {
    "name": "ipython",
    "version": 2
   },
   "file_extension": ".py",
   "mimetype": "text/x-python",
   "name": "python",
   "nbconvert_exporter": "python",
   "pygments_lexer": "ipython2",
   "version": "2.7.6"
  }
 },
 "nbformat": 4,
 "nbformat_minor": 5
}
